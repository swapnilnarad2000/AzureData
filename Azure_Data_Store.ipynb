{
 "cells": [
  {
   "cell_type": "markdown",
   "metadata": {},
   "source": [
    "### Essential files for Azure Storage"
   ]
  },
  {
   "cell_type": "code",
   "execution_count": null,
   "metadata": {},
   "outputs": [],
   "source": [
    "# pip install azure-storage-file-datalake"
   ]
  },
  {
   "cell_type": "code",
   "execution_count": 164,
   "metadata": {},
   "outputs": [],
   "source": [
    "import os, uuid, sys\n",
    "from azure.storage.filedatalake import DataLakeServiceClient\n",
    "from azure.core._match_conditions import MatchConditions\n",
    "from azure.storage.filedatalake._models import ContentSettings\n",
    "from azure.storage.filedatalake import DataLakeFileClient\n",
    "from azure.storage.filedatalake import DataLakeServiceClient\n",
    "from azure.storage.blob import BlobServiceClient\n",
    "from azure.storage.blob import BlobClient"
   ]
  },
  {
   "cell_type": "markdown",
   "metadata": {},
   "source": [
    "### Liberaries used in code"
   ]
  },
  {
   "cell_type": "code",
   "execution_count": 165,
   "metadata": {},
   "outputs": [],
   "source": [
    "import numpy as np\n",
    "import urllib\n",
    "import random\n",
    "import json\n",
    "from sklearn.model_selection import train_test_split\n",
    "import pathlib\n",
    "from datetime import datetime, timedelta\n",
    "import requests\n",
    "import pandas as pd\n"
   ]
  },
  {
   "cell_type": "markdown",
   "metadata": {},
   "source": [
    "### Connect to Storage account"
   ]
  },
  {
   "cell_type": "markdown",
   "metadata": {},
   "source": [
    "### Function to fetch"
   ]
  },
  {
   "cell_type": "code",
   "execution_count": 86,
   "metadata": {},
   "outputs": [],
   "source": [
    "def fetch_data_db():\n",
    "        global values\n",
    "        global results\n",
    "        ##following is example of unauthenticated read... should fail if the db is set to not open read\n",
    "        url = \"http://gapp.agverse.in/api/v1/get-telemetry-data/\"\n",
    "        #response = urllib.request.urlopen(url)\n",
    "        #this is for authenticated reading\n",
    "        url_auth=urllib.request.Request(url,headers={\"username\": \"gapp-apis\",\"password\":\"4Score&7yrsAgo\"})\n",
    "        response = urllib.request.urlopen(url_auth)\n",
    "        data = response.read()\n",
    "        values = json.loads(data)\n",
    "        results = pd.DataFrame(values)\n",
    "        return values"
   ]
  },
  {
   "cell_type": "markdown",
   "metadata": {},
   "source": [
    "[Refer this document for complete steps](https://docs.microsoft.com/en-us/azure/storage/blobs/data-lake-storage-directory-file-acl-python)"
   ]
  },
  {
   "cell_type": "markdown",
   "metadata": {},
   "source": [
    "### Function to create a dataframe of data obtained from api link"
   ]
  },
  {
   "cell_type": "code",
   "execution_count": 68,
   "metadata": {},
   "outputs": [],
   "source": [
    "def restAPI_data_to_dataFrame():\n",
    "    id = []\n",
    "    user_id = []\n",
    "    animal_id = []\n",
    "    telemetry_data = []\n",
    "    mac_id = []\n",
    "#     global timestamp \n",
    "    timestamp = []\n",
    "    x = results.result \n",
    "\n",
    "    for i in x:\n",
    "        id.append(i['id'])\n",
    "        user_id.append(i['user_id'])\n",
    "        animal_id.append(i['animal_id'])\n",
    "        telemetry_data.append(i['telemetry_data'])\n",
    "        mac_id.append(i['mac_id'])\n",
    "        timestamp.append(i['timestamp'])\n",
    "    _dict_ = {'id' : id,'user_id' : user_id,'animal_id' : animal_id,'telemetry_data' : telemetry_data,'mac_id' : mac_id,'timestamp':timestamp} \n",
    "    Data = pd.DataFrame(_dict_)\n",
    "    return Data"
   ]
  },
  {
   "cell_type": "markdown",
   "metadata": {},
   "source": [
    "### data_to_storage_acc"
   ]
  },
  {
   "cell_type": "code",
   "execution_count": 183,
   "metadata": {},
   "outputs": [],
   "source": [
    "def data_to_storage_acc():\n",
    "    service = BlobServiceClient(account_url=\"https://sampleagverse.blob.core.windows.net/\", credential=storage_account_key)\n",
    "    \n",
    "    blob = BlobClient.from_connection_string(conn_str=my_connection_string, container_name=\"sampleagverse\", blob_name=(\"Data \"+str(datetime.datetime.now())))\n",
    "\n",
    "    fetch_data_db()\n",
    "    \n",
    "    restAPI_data_to_dataFrame().to_csv('Data.csv')\n",
    "\n",
    "    with open(\"./Data.csv\", \"rb\") as data:\n",
    "        blob.upload_blob(data)\n",
    "    \n",
    "    print(\"Data uploaded successfully\")"
   ]
  },
  {
   "cell_type": "markdown",
   "metadata": {},
   "source": [
    "# Main "
   ]
  },
  {
   "cell_type": "markdown",
   "metadata": {},
   "source": [
    "### Connect to storage account"
   ]
  },
  {
   "cell_type": "code",
   "execution_count": 180,
   "metadata": {},
   "outputs": [],
   "source": [
    "storage_account_name = 'sampleagverse'\n",
    "storage_account_key = 'Pg2WyUvKwJeG/mP/KO1zeBM/90N0+hiaCiQgRHDbaVLfXpvd6gSOsHhBSQLFipCW3dE3vpVcmYJJDTkR1lw2mw=='\n",
    "my_connection_string = 'DefaultEndpointsProtocol=https;AccountName=sampleagverse;AccountKey=Pg2WyUvKwJeG/mP/KO1zeBM/90N0+hiaCiQgRHDbaVLfXpvd6gSOsHhBSQLFipCW3dE3vpVcmYJJDTkR1lw2mw==;EndpointSuffix=core.windows.net'\n",
    "# initialize_storage_account(storage_account_name,storage_account_key)"
   ]
  },
  {
   "cell_type": "code",
   "execution_count": 184,
   "metadata": {},
   "outputs": [
    {
     "name": "stdout",
     "output_type": "stream",
     "text": [
      "Data uploaded successfully\n"
     ]
    }
   ],
   "source": [
    "import datetime\n",
    "\n",
    "data_to_storage_acc()"
   ]
  },
  {
   "cell_type": "code",
   "execution_count": 172,
   "metadata": {},
   "outputs": [],
   "source": [
    " dataFromApi = restAPI_data_to_dataFrame()\n"
   ]
  },
  {
   "cell_type": "code",
   "execution_count": 173,
   "metadata": {},
   "outputs": [
    {
     "data": {
      "text/html": [
       "<div>\n",
       "<style scoped>\n",
       "    .dataframe tbody tr th:only-of-type {\n",
       "        vertical-align: middle;\n",
       "    }\n",
       "\n",
       "    .dataframe tbody tr th {\n",
       "        vertical-align: top;\n",
       "    }\n",
       "\n",
       "    .dataframe thead th {\n",
       "        text-align: right;\n",
       "    }\n",
       "</style>\n",
       "<table border=\"1\" class=\"dataframe\">\n",
       "  <thead>\n",
       "    <tr style=\"text-align: right;\">\n",
       "      <th></th>\n",
       "      <th>id</th>\n",
       "      <th>user_id</th>\n",
       "      <th>animal_id</th>\n",
       "      <th>telemetry_data</th>\n",
       "      <th>mac_id</th>\n",
       "      <th>timestamp</th>\n",
       "    </tr>\n",
       "  </thead>\n",
       "  <tbody>\n",
       "    <tr>\n",
       "      <th>0</th>\n",
       "      <td>1</td>\n",
       "      <td>20</td>\n",
       "      <td>22</td>\n",
       "      <td>56 84 33 56 -21 -104</td>\n",
       "      <td>FD:7E:37:9E:A6:A9</td>\n",
       "      <td>25/12/2020 22:16:36</td>\n",
       "    </tr>\n",
       "    <tr>\n",
       "      <th>1</th>\n",
       "      <td>2</td>\n",
       "      <td>20</td>\n",
       "      <td>22</td>\n",
       "      <td>56 84 33 56 -21 -104</td>\n",
       "      <td>FD:7E:37:9E:A6:A9</td>\n",
       "      <td>25/12/2020 22:16:36</td>\n",
       "    </tr>\n",
       "    <tr>\n",
       "      <th>2</th>\n",
       "      <td>3</td>\n",
       "      <td>20</td>\n",
       "      <td>22</td>\n",
       "      <td>56 104 33 12 -21 -104</td>\n",
       "      <td>FD:7E:37:9E:A6:A9</td>\n",
       "      <td>25/12/2020 22:16:46</td>\n",
       "    </tr>\n",
       "    <tr>\n",
       "      <th>3</th>\n",
       "      <td>4</td>\n",
       "      <td>20</td>\n",
       "      <td>22</td>\n",
       "      <td>56 104 33 12 -21 -104</td>\n",
       "      <td>FD:7E:37:9E:A6:A9</td>\n",
       "      <td>25/12/2020 22:16:46</td>\n",
       "    </tr>\n",
       "    <tr>\n",
       "      <th>4</th>\n",
       "      <td>5</td>\n",
       "      <td>20</td>\n",
       "      <td>21</td>\n",
       "      <td>40 -104 27 -16 42 68</td>\n",
       "      <td>E1:4C:CA:A7:CD:C9</td>\n",
       "      <td>25/12/2020 22:16:51</td>\n",
       "    </tr>\n",
       "    <tr>\n",
       "      <th>...</th>\n",
       "      <td>...</td>\n",
       "      <td>...</td>\n",
       "      <td>...</td>\n",
       "      <td>...</td>\n",
       "      <td>...</td>\n",
       "      <td>...</td>\n",
       "    </tr>\n",
       "    <tr>\n",
       "      <th>15657</th>\n",
       "      <td>15658</td>\n",
       "      <td>20</td>\n",
       "      <td>6</td>\n",
       "      <td>FFFF,FFFF,FFFF</td>\n",
       "      <td>CA:FB:63:73:E5:35</td>\n",
       "      <td>1620722908</td>\n",
       "    </tr>\n",
       "    <tr>\n",
       "      <th>15658</th>\n",
       "      <td>15659</td>\n",
       "      <td>20</td>\n",
       "      <td>7</td>\n",
       "      <td>0688,00D4,3FF8</td>\n",
       "      <td>DD:70:7B:28:82:CC</td>\n",
       "      <td>1620722909</td>\n",
       "    </tr>\n",
       "    <tr>\n",
       "      <th>15659</th>\n",
       "      <td>15660</td>\n",
       "      <td>20</td>\n",
       "      <td>6</td>\n",
       "      <td>FFFF,FFFF,FFFF</td>\n",
       "      <td>CA:FB:63:73:E5:35</td>\n",
       "      <td>1620722913</td>\n",
       "    </tr>\n",
       "    <tr>\n",
       "      <th>15660</th>\n",
       "      <td>15661</td>\n",
       "      <td>20</td>\n",
       "      <td>7</td>\n",
       "      <td>0618,00DC,3FE0</td>\n",
       "      <td>DD:70:7B:28:82:CC</td>\n",
       "      <td>1620722914</td>\n",
       "    </tr>\n",
       "    <tr>\n",
       "      <th>15661</th>\n",
       "      <td>15662</td>\n",
       "      <td>20</td>\n",
       "      <td>6</td>\n",
       "      <td>FFFF,FFFF,FFFF</td>\n",
       "      <td>CA:FB:63:73:E5:35</td>\n",
       "      <td>1620722918</td>\n",
       "    </tr>\n",
       "  </tbody>\n",
       "</table>\n",
       "<p>15662 rows × 6 columns</p>\n",
       "</div>"
      ],
      "text/plain": [
       "          id  user_id  animal_id         telemetry_data             mac_id  \\\n",
       "0          1       20         22   56 84 33 56 -21 -104  FD:7E:37:9E:A6:A9   \n",
       "1          2       20         22   56 84 33 56 -21 -104  FD:7E:37:9E:A6:A9   \n",
       "2          3       20         22  56 104 33 12 -21 -104  FD:7E:37:9E:A6:A9   \n",
       "3          4       20         22  56 104 33 12 -21 -104  FD:7E:37:9E:A6:A9   \n",
       "4          5       20         21   40 -104 27 -16 42 68  E1:4C:CA:A7:CD:C9   \n",
       "...      ...      ...        ...                    ...                ...   \n",
       "15657  15658       20          6         FFFF,FFFF,FFFF  CA:FB:63:73:E5:35   \n",
       "15658  15659       20          7         0688,00D4,3FF8  DD:70:7B:28:82:CC   \n",
       "15659  15660       20          6         FFFF,FFFF,FFFF  CA:FB:63:73:E5:35   \n",
       "15660  15661       20          7         0618,00DC,3FE0  DD:70:7B:28:82:CC   \n",
       "15661  15662       20          6         FFFF,FFFF,FFFF  CA:FB:63:73:E5:35   \n",
       "\n",
       "                 timestamp  \n",
       "0      25/12/2020 22:16:36  \n",
       "1      25/12/2020 22:16:36  \n",
       "2      25/12/2020 22:16:46  \n",
       "3      25/12/2020 22:16:46  \n",
       "4      25/12/2020 22:16:51  \n",
       "...                    ...  \n",
       "15657           1620722908  \n",
       "15658           1620722909  \n",
       "15659           1620722913  \n",
       "15660           1620722914  \n",
       "15661           1620722918  \n",
       "\n",
       "[15662 rows x 6 columns]"
      ]
     },
     "execution_count": 173,
     "metadata": {},
     "output_type": "execute_result"
    }
   ],
   "source": [
    "dataFromApi"
   ]
  },
  {
   "cell_type": "code",
   "execution_count": null,
   "metadata": {},
   "outputs": [],
   "source": []
  }
 ],
 "metadata": {
  "kernelspec": {
   "display_name": "Python 3",
   "language": "python",
   "name": "python3"
  },
  "language_info": {
   "codemirror_mode": {
    "name": "ipython",
    "version": 3
   },
   "file_extension": ".py",
   "mimetype": "text/x-python",
   "name": "python",
   "nbconvert_exporter": "python",
   "pygments_lexer": "ipython3",
   "version": "3.8.3"
  }
 },
 "nbformat": 4,
 "nbformat_minor": 4
}
