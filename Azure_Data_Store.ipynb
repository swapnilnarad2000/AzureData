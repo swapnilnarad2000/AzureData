{
 "cells": [
  {
   "cell_type": "markdown",
   "metadata": {},
   "source": [
    "### Essential files for Azure Storage"
   ]
  },
  {
   "cell_type": "code",
   "execution_count": 33,
   "metadata": {},
   "outputs": [],
   "source": [
    "# pip install azure-storage-file-datalake"
   ]
  },
  {
   "cell_type": "code",
   "execution_count": 34,
   "metadata": {},
   "outputs": [],
   "source": [
    "import os, uuid, sys\n",
    "from azure.storage.filedatalake import DataLakeServiceClient\n",
    "from azure.core._match_conditions import MatchConditions\n",
    "from azure.storage.filedatalake._models import ContentSettings\n",
    "from azure.storage.filedatalake import DataLakeFileClient\n",
    "from azure.storage.filedatalake import DataLakeServiceClient\n",
    "from azure.storage.blob import BlobServiceClient\n",
    "from azure.storage.blob import BlobClient"
   ]
  },
  {
   "cell_type": "markdown",
   "metadata": {},
   "source": [
    "### Liberaries used in code"
   ]
  },
  {
   "cell_type": "code",
   "execution_count": 35,
   "metadata": {},
   "outputs": [],
   "source": [
    "import numpy as np\n",
    "import urllib\n",
    "import random\n",
    "import json\n",
    "from sklearn.model_selection import train_test_split\n",
    "import pathlib\n",
    "from datetime import datetime, timedelta\n",
    "import requests\n",
    "import pandas as pd\n"
   ]
  },
  {
   "cell_type": "markdown",
   "metadata": {},
   "source": [
    "### Connect to Storage account"
   ]
  },
  {
   "cell_type": "markdown",
   "metadata": {},
   "source": [
    "### Function to fetch"
   ]
  },
  {
   "cell_type": "code",
   "execution_count": 36,
   "metadata": {},
   "outputs": [],
   "source": [
    "def fetch_data_db(username,password):\n",
    "        global values\n",
    "        global results\n",
    "        ##following is example of unauthenticated read... should fail if the db is set to not open read\n",
    "        url = \"http://gapp.agverse.in/api/v1/get-telemetry-data/\"\n",
    "        #response = urllib.request.urlopen(url)\n",
    "        #this is for authenticated reading\n",
    "        url_auth=urllib.request.Request(url,headers={\"username\" : username ,\"password\" : password})\n",
    "        response = urllib.request.urlopen(url_auth)\n",
    "        data = response.read()\n",
    "        values = json.loads(data)\n",
    "        results = pd.DataFrame(values)\n",
    "        return results"
   ]
  },
  {
   "cell_type": "markdown",
   "metadata": {},
   "source": [
    "[Refer this document for complete steps](https://docs.microsoft.com/en-us/azure/storage/blobs/data-lake-storage-directory-file-acl-python)"
   ]
  },
  {
   "cell_type": "markdown",
   "metadata": {},
   "source": [
    "### Function to create a dataframe of data obtained from api link"
   ]
  },
  {
   "cell_type": "code",
   "execution_count": 37,
   "metadata": {},
   "outputs": [],
   "source": [
    "def restAPI_data_to_dataFrame(username,password):\n",
    "    id = []\n",
    "    user_id = []\n",
    "    animal_id = []\n",
    "    telemetry_data = []\n",
    "    mac_id = []\n",
    "#     global timestamp \n",
    "    timestamp = []\n",
    "    results = fetch_data_db(username,password)\n",
    "    x = results.result \n",
    "\n",
    "    for i in x:\n",
    "        id.append(i['id'])\n",
    "        user_id.append(i['user_id'])\n",
    "        animal_id.append(i['animal_id'])\n",
    "        telemetry_data.append(i['telemetry_data'])\n",
    "        mac_id.append(i['mac_id'])\n",
    "        timestamp.append(i['timestamp'])\n",
    "    _dict_ = {'id' : id,'user_id' : user_id,'animal_id' : animal_id,'telemetry_data' : telemetry_data,'mac_id' : mac_id,'timestamp':timestamp} \n",
    "    Data = pd.DataFrame(_dict_)\n",
    "    return Data"
   ]
  },
  {
   "cell_type": "markdown",
   "metadata": {},
   "source": [
    "### data_to_storage_acc"
   ]
  },
  {
   "cell_type": "code",
   "execution_count": 30,
   "metadata": {},
   "outputs": [],
   "source": [
    "def data_to_storage_acc(container_name,my_connection_string,username,password):\n",
    "    service = BlobServiceClient(account_url=\"https://sampleagverse.blob.core.windows.net/\", credential=storage_account_key)\n",
    "    \n",
    "    blob = BlobClient.from_connection_string(conn_str=my_connection_string, container_name=container_name, blob_name=(\"Data \"+str(datetime.datetime.now())))\n",
    "\n",
    "    data = restAPI_data_to_dataFrame(username,password).to_csv()\n",
    "\n",
    "    blob.upload_blob(data)\n",
    "    \n",
    "    print(\"Data uploaded successfully\")"
   ]
  },
  {
   "cell_type": "markdown",
   "metadata": {},
   "source": [
    "# Main "
   ]
  },
  {
   "cell_type": "markdown",
   "metadata": {},
   "source": [
    "### Connect to storage account"
   ]
  },
  {
   "cell_type": "code",
   "execution_count": 39,
   "metadata": {},
   "outputs": [],
   "source": [
    "username = \"\"\n",
    "password = \"\"\n",
    "storage_account_name = ''\n",
    "storage_account_key = ''\n",
    "my_connection_string = ''"
   ]
  },
  {
   "source": [
    "### Running all the three created functions"
   ],
   "cell_type": "markdown",
   "metadata": {}
  },
  {
   "cell_type": "code",
   "execution_count": 38,
   "metadata": {},
   "outputs": [],
   "source": [
    "# fetch_data_db(username,password)\n",
    "# restAPI_data_to_dataFrame(username,password)"
   ]
  },
  {
   "source": [
    "### Transfer fetched data into our storage account"
   ],
   "cell_type": "markdown",
   "metadata": {}
  },
  {
   "cell_type": "code",
   "execution_count": 32,
   "metadata": {},
   "outputs": [
    {
     "output_type": "stream",
     "name": "stdout",
     "text": [
      "Data uploaded successfully\n"
     ]
    }
   ],
   "source": [
    "import datetime\n",
    "\n",
    "data_to_storage_acc(storage_account_name,my_connection_string,username,password)"
   ]
  }
 ],
 "metadata": {
  "kernelspec": {
   "display_name": "Python 3",
   "language": "python",
   "name": "python3"
  },
  "language_info": {
   "codemirror_mode": {
    "name": "ipython",
    "version": 3
   },
   "file_extension": ".py",
   "mimetype": "text/x-python",
   "name": "python",
   "nbconvert_exporter": "python",
   "pygments_lexer": "ipython3",
   "version": "3.8.3"
  }
 },
 "nbformat": 4,
 "nbformat_minor": 4
}